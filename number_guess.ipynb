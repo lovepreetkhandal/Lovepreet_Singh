{
 "cells": [
  {
   "cell_type": "code",
   "execution_count": 1,
   "metadata": {},
   "outputs": [
    {
     "name": "stdout",
     "output_type": "stream",
     "text": [
      "What is your guess?45\n",
      "Better luck next time\n"
     ]
    }
   ],
   "source": [
    "#### Version 1\n",
    "CORRECT_NUMBER=26\n",
    "\n",
    "user_guess= int (input(\"What is your guess?\" ))\n",
    "if user_guess == CORRECT_NUMBER:\n",
    "    print(\"Wow! Great guess\")\n",
    "else:\n",
    "    print(\"Better luck next time\")"
   ]
  },
  {
   "cell_type": "code",
   "execution_count": null,
   "metadata": {},
   "outputs": [],
   "source": [
    "CORRECT_NUMBER=26\n",
    "while True:\n",
    "    user_guess= int (input(\"What is your guess?\" ))\n",
    "    if user_guess == CORRECT_NUMBER:\n",
    "        print(\"Wow! Great guess\")\n",
    "        break\n",
    "    else:\n",
    "        print(\"Better luck next time\")\n"
   ]
  },
  {
   "cell_type": "code",
   "execution_count": null,
   "metadata": {},
   "outputs": [],
   "source": [
    "## VERSION 3\n",
    "import random\n",
    "LOWER_BOUND=1\n",
    "UPPER_BOUND=100\n",
    "GUESS_LIMIT=5\n",
    "GUESS_COUNTER=0\n",
    "CORRECT_ANSWER=random.randint(LOWER_BOUND, UPPER_BOUND)\n",
    "\n",
    "print(f\"try guessing a numer I am thinking rn. Its between 0 and 100\")\n",
    "\n",
    "while True:\n",
    "    user_guess= int (input(\"What is your guess?\" ))\n",
    "    GUESS_COUNTER +=1\n",
    "    remaining_guess = GUESS_LIMIT - GUESS_COUNTER\n",
    "    if LOWER_BOUND <= user_guess <= UPPER_BOUND:\n",
    "        if user_guess == CORRECT_ANSWER:\n",
    "            print(f\"Wow! Great guess. You got it in {GUESS_COUNTER} guesses\")\n",
    "            break\n",
    "        elif user_guess < CORRECT_ANSWER:\n",
    "            print(f\"your answer is too low. Guesses remaining: {remaining_guess}\")\n",
    "        else:\n",
    "            print(f\"your answer is too high. Guesses remaining: {remaining_guess}\")\n",
    "    else:\n",
    "        print(f\"your answer is outside the range. Try guessing between {LOWER_BOUND} and {UPPER_BOUND}\")\n",
    "    if remaining_guess==0:\n",
    "        print(f\"sorry! You are out of limits. The correct_answer is {CORRECT_ANSWER}\")\n",
    "        break"
   ]
  },
  {
   "cell_type": "code",
   "execution_count": null,
   "metadata": {},
   "outputs": [],
   "source": []
  }
 ],
 "metadata": {
  "kernelspec": {
   "display_name": "Python 3",
   "language": "python",
   "name": "python3"
  },
  "language_info": {
   "codemirror_mode": {
    "name": "ipython",
    "version": 3
   },
   "file_extension": ".py",
   "mimetype": "text/x-python",
   "name": "python",
   "nbconvert_exporter": "python",
   "pygments_lexer": "ipython3",
   "version": "3.8.5"
  }
 },
 "nbformat": 4,
 "nbformat_minor": 4
}
